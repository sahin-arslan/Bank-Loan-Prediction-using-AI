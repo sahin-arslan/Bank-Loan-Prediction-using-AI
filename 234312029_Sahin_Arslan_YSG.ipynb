{
  "nbformat": 4,
  "nbformat_minor": 0,
  "metadata": {
    "colab": {
      "provenance": [],
      "toc_visible": true,
      "authorship_tag": "ABX9TyMNmL/D1toFmmXTsQ9oeO++",
      "include_colab_link": true
    },
    "kernelspec": {
      "name": "python3",
      "display_name": "Python 3"
    },
    "language_info": {
      "name": "python"
    }
  },
  "cells": [
    {
      "cell_type": "markdown",
      "metadata": {
        "id": "view-in-github",
        "colab_type": "text"
      },
      "source": [
        "<a href=\"https://colab.research.google.com/github/sahin-arslan/Bank-Loan-Prediction-using-AI/blob/main/234312029_Sahin_Arslan_YSG.ipynb\" target=\"_parent\"><img src=\"https://colab.research.google.com/assets/colab-badge.svg\" alt=\"Open In Colab\"/></a>"
      ]
    },
    {
      "cell_type": "markdown",
      "source": [
        "## 1. Gerekli Kütüphanelerin Yüklenmesi\n",
        "\n",
        "\n",
        "*   pandas, numpy (veri işleme)\n",
        "*   sklearn, keras (model oluşturma, veri ayırma, performans metrikleri)\n",
        "*   matplotlib ve seaborn (görselleştirme)\n",
        "\n",
        "\n"
      ],
      "metadata": {
        "id": "knbFjWuUsZ09"
      }
    },
    {
      "cell_type": "markdown",
      "source": [
        "## 2. Veri Seti Yükleme ve Ön İşleme\n",
        "\n"
      ],
      "metadata": {
        "id": "zGnK5m9Us4MM"
      }
    },
    {
      "cell_type": "markdown",
      "source": [
        "**1. Veri Yükleme:**"
      ],
      "metadata": {
        "id": "NN4-xDMRtOYH"
      }
    }
  ]
}